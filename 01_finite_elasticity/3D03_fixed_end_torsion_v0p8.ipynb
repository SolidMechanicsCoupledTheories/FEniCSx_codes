{
 "cells": [
  {
   "cell_type": "markdown",
   "id": "b1ceaa4a-7cea-4f94-8397-8fa453d3549a",
   "metadata": {
    "editable": true,
    "slideshow": {
     "slide_type": ""
    },
    "tags": []
   },
   "source": [
    "# Finite hyperelasticity of elastomeric materials\n",
    "\n",
    "- Torsion of a 3D cylinder."
   ]
  },
  {
   "cell_type": "markdown",
   "id": "f416a3a7-b57a-4be2-a09a-3d6fb38aeaad",
   "metadata": {
    "editable": true,
    "slideshow": {
     "slide_type": ""
    },
    "tags": []
   },
   "source": [
    "# Units\n",
    "- Length: mm\n",
    "- Mass: kg\n",
    "- Time:  s\n",
    "- Force: milliNewtons\n",
    "- Stress: kPa \n",
    "\n",
    "### Software:\n",
    "- Dolfinx v0.8.0\n",
    "\n",
    "Eric Stewart and Lallit Anand  \n",
    "\n",
    "ericstew@mit.edu and anand@mit.edu   \n",
    "\n",
    "June 2024"
   ]
  },
  {
   "cell_type": "markdown",
   "id": "00fe1f71-eab4-49ca-babd-2b44b258bb44",
   "metadata": {},
   "source": [
    "# Import modules"
   ]
  },
  {
   "cell_type": "code",
   "execution_count": 1,
   "id": "6d33ad4a-f75b-449a-9445-1b8358927868",
   "metadata": {},
   "outputs": [],
   "source": [
    "# Import FEnicSx/dolfinx\n",
    "import dolfinx\n",
    "\n",
    "# For numerical arrays\n",
    "import numpy as np\n",
    "\n",
    "# For MPI-based parallelization\n",
    "from mpi4py import MPI\n",
    "comm = MPI.COMM_WORLD\n",
    "rank = comm.Get_rank()\n",
    "\n",
    "# PETSc solvers\n",
    "from petsc4py import PETSc\n",
    "\n",
    "# specific functions from dolfinx modules\n",
    "from dolfinx import fem, mesh, io, plot, log\n",
    "from dolfinx.fem import (Constant, dirichletbc, Function, functionspace, Expression )\n",
    "from dolfinx.fem.petsc import NonlinearProblem\n",
    "from dolfinx.nls.petsc import NewtonSolver\n",
    "from dolfinx.io import VTXWriter, XDMFFile\n",
    "\n",
    "\n",
    "# specific functions from ufl modules\n",
    "import ufl\n",
    "from ufl import (TestFunctions, TrialFunction, Identity, grad, det, div, dev, inv, tr, sqrt, conditional ,\\\n",
    "                 gt, dx, inner, derivative, dot, ln, split)\n",
    "\n",
    "# basix finite elements (necessary for dolfinx v0.8.0)\n",
    "import basix\n",
    "from basix.ufl import element, mixed_element, quadrature_element\n",
    "\n",
    "# Matplotlib for plotting\n",
    "import matplotlib.pyplot as plt\n",
    "plt.close('all')\n",
    "\n",
    "# For timing the code\n",
    "from datetime import datetime\n",
    "\n",
    "\n",
    "# Set level of detail for log messages (integer)\n",
    "# Guide:\n",
    "# CRITICAL  = 50, // errors that may lead to data corruption\n",
    "# ERROR     = 40, // things that HAVE gone wrong\n",
    "# WARNING   = 30, // things that MAY go wrong later\n",
    "# INFO      = 20, // information of general interest (includes solver info)\n",
    "# PROGRESS  = 16, // what's happening (broadly)\n",
    "# TRACE     = 13, // what's happening (in detail)\n",
    "# DBG       = 10  // sundry\n",
    "#\n",
    "log.set_log_level(log.LogLevel.WARNING)"
   ]
  },
  {
   "cell_type": "markdown",
   "id": "8dd1126c-48be-46cb-a1a9-5d4664b76432",
   "metadata": {},
   "source": [
    "# Define geometry"
   ]
  },
  {
   "cell_type": "code",
   "execution_count": 2,
   "id": "fd25aeb7-780b-41c3-917c-0c174798cbc3",
   "metadata": {},
   "outputs": [],
   "source": [
    "L = 25.4  # Length mm\n",
    "R = 12.7  # Radius mm\n",
    "\n",
    "with XDMFFile(MPI.COMM_WORLD,\"meshes/cylinder.xdmf\",'r') as infile:\n",
    "    domain = infile.read_mesh(name=\"Grid\",xpath=\"/Xdmf/Domain\")\n",
    "    cell_tags = infile.read_meshtags(domain,name=\"Grid\")\n",
    "domain.topology.create_connectivity(domain.topology.dim, domain.topology.dim-1)\n",
    "\n",
    "with XDMFFile(MPI.COMM_WORLD, \"meshes/facet_cylinder.xdmf\", \"r\") as xdmf:\n",
    "    facet_tags = xdmf.read_meshtags(domain, name=\"Grid\")\n",
    "\n",
    "x = ufl.SpatialCoordinate(domain)"
   ]
  },
  {
   "cell_type": "markdown",
   "id": "ef8daa66",
   "metadata": {},
   "source": [
    "**Print out the unique facet index numbers**"
   ]
  },
  {
   "cell_type": "code",
   "execution_count": 3,
   "id": "81a3a112",
   "metadata": {},
   "outputs": [
    {
     "name": "stdout",
     "output_type": "stream",
     "text": [
      "[  7 101 102]\n"
     ]
    }
   ],
   "source": [
    "top_imap = domain.topology.index_map(2)      # index map of 2D entities in domain (facets)\n",
    "values = np.zeros(top_imap.size_global)      # an array of zeros of the same size as number of 2D entities\n",
    "values[facet_tags.indices]=facet_tags.values # populating the array with facet tag index numbers\n",
    "print(np.unique(facet_tags.values))          # printing the unique indices\n",
    "\n",
    "# Surface labels from gmsh:\n",
    "# Physical Surface(\"xBot\", 101)\n",
    "# Physical Surface(\"xTop\", 102)\n",
    "# The \"side\" is automatically assigned index 7."
   ]
  },
  {
   "cell_type": "markdown",
   "id": "37e6fd4c",
   "metadata": {},
   "source": [
    "**Visualize reference configuration and boundary facets**"
   ]
  },
  {
   "cell_type": "code",
   "execution_count": 4,
   "id": "3dd2f65f",
   "metadata": {},
   "outputs": [
    {
     "data": {
      "application/vnd.jupyter.widget-view+json": {
       "model_id": "a38ca2eaf80740a697414fd1bb682bdd",
       "version_major": 2,
       "version_minor": 0
      },
      "text/plain": [
       "EmbeddableWidget(value='<iframe srcdoc=\"<!DOCTYPE html>\\n<html>\\n  <head>\\n    <meta http-equiv=&quot;Content-…"
      ]
     },
     "metadata": {},
     "output_type": "display_data"
    }
   ],
   "source": [
    "import pyvista\n",
    "pyvista.set_jupyter_backend('html')\n",
    "from dolfinx.plot import vtk_mesh\n",
    "pyvista.start_xvfb()\n",
    "\n",
    "plotter = pyvista.Plotter()\n",
    "\n",
    "top = pyvista.UnstructuredGrid(*vtk_mesh(domain, domain.topology.dim-1,facet_tags.indices[facet_tags.values==102]) )\n",
    "sides = pyvista.UnstructuredGrid(*vtk_mesh(domain, domain.topology.dim-1,facet_tags.indices[facet_tags.values==7]) )\n",
    "bottom = pyvista.UnstructuredGrid(*vtk_mesh(domain, domain.topology.dim-1,facet_tags.indices[facet_tags.values==101]) )\n",
    "\n",
    "actor = plotter.add_mesh(top, show_edges=True,color=\"blue\") # top face is blue\n",
    "actor2 = plotter.add_mesh(sides, show_edges=True,color=\"red\") # sides are red\n",
    "actor3 = plotter.add_mesh(bottom, show_edges=True,color=\"green\") # bottom face is green\n",
    "\n",
    "labels = dict(zlabel='Z', xlabel='X', ylabel='Y')\n",
    "plotter.add_axes(**labels)\n",
    "\n",
    "if not pyvista.OFF_SCREEN:\n",
    "    plotter.show()\n",
    "else:\n",
    "    plotter.screenshot(\"mesh.png\")"
   ]
  },
  {
   "cell_type": "markdown",
   "id": "0c5ab77d-d115-4a34-82a2-caef79998b94",
   "metadata": {},
   "source": [
    "## Define boundary and volume integration measure"
   ]
  },
  {
   "cell_type": "code",
   "execution_count": 5,
   "id": "950959cb-7f79-4e8f-9110-15bfcabbea5f",
   "metadata": {},
   "outputs": [],
   "source": [
    "# Surface labels from gmsh:\n",
    "# Physical Surface(\"xBot\", 101)\n",
    "# Physical Surface(\"xTop\", 102)\n",
    "\n",
    "# Define the boundary integration measure \"ds\" using the facet tags,\n",
    "# also specify the number of surface quadrature points.\n",
    "ds = ufl.Measure('ds', domain=domain, subdomain_data=facet_tags, metadata={'quadrature_degree': 4})\n",
    "\n",
    "# Define the volume integration measure \"dx\" \n",
    "# also specify the number of volume quadrature points.\n",
    "dx = ufl.Measure('dx', domain=domain, metadata={'quadrature_degree': 4})\n",
    "\n",
    "#  Define facet normal\n",
    "n = ufl.FacetNormal(domain)"
   ]
  },
  {
   "cell_type": "markdown",
   "id": "faf9b320-f53b-4f1d-9021-6868e4bc405e",
   "metadata": {},
   "source": [
    "# Material parameters\n",
    "-Arruda-Boyce model"
   ]
  },
  {
   "cell_type": "code",
   "execution_count": 6,
   "id": "bc56b0e2-03fe-46cf-80f6-4513b8d20a4d",
   "metadata": {},
   "outputs": [],
   "source": [
    "Gshear_0 = Constant(domain,PETSc.ScalarType(280.0))            # Ground state shear modulus\n",
    "lambdaL  = Constant(domain,PETSc.ScalarType(5.12))             # Locking stretch\n",
    "Kbulk    = Constant(domain,PETSc.ScalarType(1000.0*Gshear_0)) "
   ]
  },
  {
   "cell_type": "markdown",
   "id": "189806e1-fe60-4171-9a57-45975e049f11",
   "metadata": {},
   "source": [
    "# Simulation time-control related params"
   ]
  },
  {
   "cell_type": "code",
   "execution_count": 7,
   "id": "ad1649d8-d9d7-47e9-9840-675138f04b84",
   "metadata": {},
   "outputs": [],
   "source": [
    "t         = 0.0         # start time\n",
    "theta_tot = 3/4*np.pi         # total rotation of end-face in radians\n",
    "Ttot      = 20          # total simulation time \n",
    "numSteps  = 20 \n",
    "dt        = Ttot/numSteps       # (fixed) step size"
   ]
  },
  {
   "cell_type": "markdown",
   "id": "bc15800a-be86-431b-b83d-7d705dbbaec2",
   "metadata": {},
   "source": [
    "# Function spaces"
   ]
  },
  {
   "cell_type": "code",
   "execution_count": 8,
   "id": "60843083-0ccf-46ae-b60f-1011292e966d",
   "metadata": {},
   "outputs": [],
   "source": [
    "# dolfinx v0.8.0 syntax:   \n",
    "U2 = element(\"Lagrange\", domain.basix_cell(), 2, shape=(3,)) # For displacement\n",
    "P1 = element(\"Lagrange\", domain.basix_cell(), 1)  # For  pressure                                         \n",
    "#\n",
    "TH = mixed_element([U2, P1])     # Taylor-Hood style mixed element\n",
    "ME = functionspace(domain, TH)    # Total space for all DOFs\n",
    "\n",
    "# Define actual functions with the required DOFs\n",
    "w    = Function(ME)\n",
    "u, p = split(w)  # displacement u, pressure p\n",
    "\n",
    "# A copy of functions to store values in the previous step\n",
    "w_old         = Function(ME)\n",
    "u_old,  p_old = split(w_old)   \n",
    "\n",
    "# Define test functions        \n",
    "u_test, p_test = TestFunctions(ME)    \n",
    "\n",
    "# Define trial functions needed for automatic differentiation\n",
    "dw = TrialFunction(ME)                  "
   ]
  },
  {
   "cell_type": "markdown",
   "id": "49d1fe3a-f1a5-43b3-bc00-54da9486331f",
   "metadata": {},
   "source": [
    "# Subroutines for kinematics and constitutive equations"
   ]
  },
  {
   "cell_type": "code",
   "execution_count": 9,
   "id": "022a1496-91f1-4a0b-810a-b079be69379c",
   "metadata": {},
   "outputs": [],
   "source": [
    "# Deformation gradient \n",
    "def F_calc(u):\n",
    "    Id = Identity(3) \n",
    "    F  = Id + grad(u)\n",
    "    return F\n",
    "\n",
    "def lambdaBar_calc(u):\n",
    "    F = F_calc(u)\n",
    "    C = F.T*F\n",
    "    Cdis = J**(-2/3)*C\n",
    "    I1 = tr(Cdis)\n",
    "    lambdaBar = sqrt(I1/3.0)\n",
    "    return lambdaBar\n",
    "\n",
    "def zeta_calc(u):\n",
    "    lambdaBar = lambdaBar_calc(u)\n",
    "    # Use Pade approximation of Langevin inverse\n",
    "    z    = lambdaBar/lambdaL\n",
    "    z    = conditional(gt(z,0.95), 0.95, z) # Keep simulation from blowing up\n",
    "    beta = z*(3.0 - z**2.0)/(1.0 - z**2.0)\n",
    "    zeta = (lambdaL/(3*lambdaBar))*beta\n",
    "    return zeta\n",
    "\n",
    "# Generalized shear modulus for Arruda-Boyce model\n",
    "def Gshear_AB_calc(u):\n",
    "    zeta    = zeta_calc(u)\n",
    "    Gshear  = Gshear_0 * zeta\n",
    "    return Gshear\n",
    "\n",
    "#---------------------------------------------\n",
    "# Subroutine for calculating the Cauchy stress\n",
    "#---------------------------------------------\n",
    "def T_calc(u,p):\n",
    "    Id = Identity(3) \n",
    "    F   = F_calc(u)\n",
    "    J = det(F)\n",
    "    B = F*F.T\n",
    "    Bdis = J**(-2/3)*B\n",
    "    Gshear  = Gshear_AB_calc(u)\n",
    "    T = (1/J)* Gshear * dev(Bdis) - p * Id\n",
    "    return T\n",
    "\n",
    "#----------------------------------------------\n",
    "# Subroutine for calculating the Piola  stress\n",
    "#----------------------------------------------\n",
    "def Piola_calc(u, p):\n",
    "    Id = Identity(3) \n",
    "    F   = F_calc(u)\n",
    "    J = det(F)\n",
    "    #\n",
    "    T   = T_calc(u,p)\n",
    "    #\n",
    "    Tmat   = J * T * inv(F.T)\n",
    "    return Tmat"
   ]
  },
  {
   "cell_type": "markdown",
   "id": "6f67b801-f176-42f1-a95c-dec7c83b497c",
   "metadata": {},
   "source": [
    "# Evaluate kinematics and constitutive relations"
   ]
  },
  {
   "cell_type": "code",
   "execution_count": 10,
   "id": "e303f0b7-9e4a-4f83-a219-67643c1978a8",
   "metadata": {},
   "outputs": [],
   "source": [
    "F =  F_calc(u)  \n",
    "J = det(F)\n",
    "lambdaBar = lambdaBar_calc(u)\n",
    "\n",
    "# Piola stress\n",
    "Tmat = Piola_calc(u, p)"
   ]
  },
  {
   "cell_type": "markdown",
   "id": "a753cce4-3626-4334-9bba-5a75d3d6f87d",
   "metadata": {},
   "source": [
    "# Weak forms"
   ]
  },
  {
   "cell_type": "code",
   "execution_count": 11,
   "id": "aa2c7bf8-6b63-49b7-b0aa-116ea9d25804",
   "metadata": {},
   "outputs": [],
   "source": [
    "# Residuals:\n",
    "# Res_0: Balance of forces (test fxn: u)\n",
    "# Res_1: Coupling pressure (test fxn: p)\n",
    "\n",
    "# The weak form for the equilibrium equation. No body force\n",
    "Res_0 = inner(Tmat , grad(u_test) )*dx\n",
    "\n",
    "# The weak form for the pressure\n",
    "fac_p = ln(J)/J\n",
    "#\n",
    "Res_1 = dot( (p/Kbulk + fac_p), p_test)*dx\n",
    "\n",
    "# Total weak form\n",
    "Res = Res_0 +  Res_1 \n",
    "\n",
    "# Automatic differentiation tangent:\n",
    "a = derivative(Res, w, dw)"
   ]
  },
  {
   "cell_type": "markdown",
   "id": "71ee6f35-8a47-43e2-aa5b-3c4bcb715a8f",
   "metadata": {},
   "source": [
    "# Set-up output files"
   ]
  },
  {
   "cell_type": "code",
   "execution_count": 12,
   "id": "8cbb76cb-6134-4be0-b716-2b19963f645b",
   "metadata": {},
   "outputs": [],
   "source": [
    "# results file name\n",
    "results_name = \"3D_torsion\"\n",
    "\n",
    "# v0.8.0 syntax:\n",
    "U1 = element(\"DG\", domain.basix_cell(), 1, shape=(3,)) # For displacement\n",
    "P0 = element(\"DG\", domain.basix_cell(), 1)             # For  pressure  \n",
    "\n",
    "V2 = fem.functionspace(domain, U1) #Vector function space\n",
    "V1 = fem.functionspace(domain, P0) #Scalar function space, must be discontinuous here since materials are discontinuous.\n",
    "\n",
    "\n",
    "# fields to write to output file\n",
    "u_vis = Function(V2)\n",
    "u_vis.name = \"disp\"\n",
    "\n",
    "p_vis = Function(V1)\n",
    "p_vis.name = \"p\"\n",
    "\n",
    "J_vis = Function(V1)\n",
    "J_vis.name = \"J\"\n",
    "J_expr = Expression(J,V1.element.interpolation_points())\n",
    "\n",
    "lambdaBar_vis = Function(V1)\n",
    "lambdaBar_vis.name = \"lambdaBar\"\n",
    "lambdaBar_expr = Expression(lambdaBar,V1.element.interpolation_points())\n",
    "\n",
    "P11 = Function(V1)\n",
    "P11.name = \"P11\"\n",
    "P11_expr = Expression(Tmat[0,0],V1.element.interpolation_points())\n",
    "P22 = Function(V1)\n",
    "P22.name = \"P22\"\n",
    "P22_expr = Expression(Tmat[1,1],V1.element.interpolation_points())\n",
    "P33 = Function(V1)\n",
    "P33.name = \"P33\"\n",
    "P33_expr = Expression(Tmat[2,2],V1.element.interpolation_points())\n",
    "\n",
    "T   = Tmat*F.T/J\n",
    "T0   = T - (1/3)*tr(T)*Identity(3)\n",
    "Mises = sqrt((3/2)*inner(T0, T0))\n",
    "Mises_vis= Function(V1,name=\"Mises\")\n",
    "Mises_expr = Expression(Mises,V1.element.interpolation_points())\n",
    "\n",
    "# set up the output VTX files.\n",
    "file_results = VTXWriter(\n",
    "    MPI.COMM_WORLD,\n",
    "    \"results/\" + results_name + \".bp\",\n",
    "    [  # put the functions here you wish to write to output\n",
    "        u_vis, p_vis, J_vis, P11, P22, P33, lambdaBar_vis,\n",
    "        Mises_vis,\n",
    "    ],\n",
    "    engine=\"BP4\",\n",
    ")\n",
    "\n",
    "def writeResults(t):\n",
    "       # Output field interpolation \n",
    "       u_vis.interpolate(w.sub(0))\n",
    "       p_vis.interpolate(w.sub(1))\n",
    "       J_vis.interpolate(J_expr)\n",
    "       P11.interpolate(P11_expr)\n",
    "       P22.interpolate(P22_expr)\n",
    "       P33.interpolate(P33_expr)\n",
    "       lambdaBar_vis.interpolate(lambdaBar_expr)\n",
    "       Mises_vis.interpolate(Mises_expr)\n",
    "       \n",
    "       # Write output fields\n",
    "       file_results.write(t) \n",
    "        "
   ]
  },
  {
   "cell_type": "markdown",
   "id": "6206cf9e-e446-4577-af48-8c8b5f6dc843",
   "metadata": {},
   "source": [
    "# Infrastructure for pulling out time history data (force, displacement, etc.)"
   ]
  },
  {
   "cell_type": "code",
   "execution_count": 13,
   "id": "e8f55f07-25e0-4beb-91d8-4f76e4c79cac",
   "metadata": {},
   "outputs": [],
   "source": [
    "\n",
    "# infrastructure for evaluating functions at a certain point efficiently\n",
    "# (not actually used in this code)\n",
    "pointForStress = np.array([L, 0, 0])\n",
    "\n",
    "bb_tree = dolfinx.geometry.bb_tree(domain,domain.topology.dim)\n",
    "cell_candidates = dolfinx.geometry.compute_collisions_points(bb_tree, pointForStress)\n",
    "colliding_cells = dolfinx.geometry.compute_colliding_cells(domain, cell_candidates, pointForStress).array\n",
    " \n",
    "# Define functions (UFL forms) for evaluating the torque and normal traction on the top surface\n",
    "origin = ufl.as_vector([0.0,0.0,0.0])\n",
    "traction = dot(Tmat,n)\n",
    "#\n",
    "vec = ufl.cross((x-origin),traction)\n",
    "Torque = fem.form(dot(vec,n)*ds(101))\n",
    "#\n",
    "Force = fem.form(dot(traction,n)*ds(101))   \n",
    "\n",
    "# Surface labels from gmsh:\n",
    "# Physical Surface(\"xBot\", 101)\n",
    "# Physical Surface(\"xTop\", 102)  "
   ]
  },
  {
   "cell_type": "markdown",
   "id": "db4f6fae-da3d-4cd4-bc62-92ed02e9c1c7",
   "metadata": {},
   "source": [
    "# Name the analysis step"
   ]
  },
  {
   "cell_type": "code",
   "execution_count": 14,
   "id": "9c8a948f-2cc2-491b-8453-16112c15aa02",
   "metadata": {},
   "outputs": [],
   "source": [
    "# Give the step a descriptive name\n",
    "step = \"Twist\""
   ]
  },
  {
   "cell_type": "markdown",
   "id": "7f54cbce-1c5d-4ca4-a6d1-7c1f6d8a8f49",
   "metadata": {},
   "source": [
    "## Boundary condtions"
   ]
  },
  {
   "cell_type": "code",
   "execution_count": 15,
   "id": "4057355c",
   "metadata": {},
   "outputs": [],
   "source": [
    "# Setting up the expressions for rotation of the top surface.\n",
    "scale = 1.0\n",
    "y0 = 0.0\n",
    "z0 = 0.0\n",
    "Time_cons = Constant(domain,PETSc.ScalarType(0))\n",
    "\n",
    "V_y, V_y_to_ME =  ME.sub(0).sub(1).collapse() #Scalar function space corresponding to u2 / y-displacement\n",
    "V_z, V_z_to_ME =  ME.sub(0).sub(2).collapse() #Scalar function space corresponding to u3 / z-displacement\n",
    "\n",
    "boundary_twist_y = scale*(y0 + (x[1] - y0)*ufl.cos(theta_tot*(Time_cons/Ttot)) - (x[2] - z0)*ufl.sin(theta_tot*(Time_cons/Ttot)) - x[1])\n",
    "\n",
    "exp_y    = Expression(boundary_twist_y,V_y.element.interpolation_points())\n",
    "func_y   = Function(V_y)\n",
    "func_y.interpolate(exp_y)\n",
    "\n",
    "boundary_twist_z = scale*(z0 + (x[1] - y0)*ufl.sin(theta_tot*(Time_cons/Ttot)) + (x[2] - z0)*ufl.cos(theta_tot*(Time_cons/Ttot)) - x[2])\n",
    "\n",
    "exp_z    = Expression(boundary_twist_z,V_z.element.interpolation_points())\n",
    "func_z   = Function(V_z)\n",
    "func_z.interpolate(exp_z)"
   ]
  },
  {
   "cell_type": "code",
   "execution_count": 16,
   "id": "6eae301e-9bb1-4531-9de4-f5571959e734",
   "metadata": {},
   "outputs": [],
   "source": [
    "# Surface labels from gmsh:\n",
    "# Physical Surface(\"xBot\", 101)\n",
    "# Physical Surface(\"xTop\", 102)\n",
    "\n",
    "# Find the specific DOFs which will be constrained.\n",
    "#\n",
    "# Bottom surface displacement degrees of freedom\n",
    "Btm_dofs_u1 = fem.locate_dofs_topological(ME.sub(0).sub(0), facet_tags.dim, facet_tags.find(101))\n",
    "Btm_dofs_u2 = fem.locate_dofs_topological(ME.sub(0).sub(1), facet_tags.dim, facet_tags.find(101))\n",
    "Btm_dofs_u3 = fem.locate_dofs_topological(ME.sub(0).sub(2), facet_tags.dim, facet_tags.find(101))\n",
    "# Top surface displacement degrees of freedom\n",
    "Top_dofs_u1 = fem.locate_dofs_topological(ME.sub(0).sub(0), facet_tags.dim, facet_tags.find(102))\n",
    "Top_dofs_u2 = fem.locate_dofs_topological((ME.sub(0).sub(1), V_y), facet_tags.dim, facet_tags.find(102))\n",
    "Top_dofs_u3 = fem.locate_dofs_topological((ME.sub(0).sub(2), V_z), facet_tags.dim, facet_tags.find(102))\n",
    "\n",
    "# Build the Dirichlet BCs\n",
    "bcs_0 = dirichletbc(0.0, Btm_dofs_u1, ME.sub(0).sub(0))  # u1 fix    - xBtm\n",
    "bcs_1 = dirichletbc(0.0, Btm_dofs_u2, ME.sub(0).sub(1))  # u2 fix    - xBtm\n",
    "bcs_2 = dirichletbc(0.0, Btm_dofs_u3, ME.sub(0).sub(2))  # u3 fix    - xBtm\n",
    "#\n",
    "bcs_3 = dirichletbc(0.0, Top_dofs_u1, ME.sub(0).sub(0))     # u1 fix    - xTop\n",
    "bcs_4 = dirichletbc(func_y, Top_dofs_u2, ME.sub(0).sub(1))  # u2 rotate - xTop\n",
    "bcs_5 = dirichletbc(func_z, Top_dofs_u3, ME.sub(0).sub(2))  # u3 rotate - xTop\n",
    "\n",
    "# collect all BCs in one object.\n",
    "bcs = [bcs_0, bcs_1, bcs_2, bcs_3, bcs_4, bcs_5]"
   ]
  },
  {
   "cell_type": "markdown",
   "id": "d51fae0c-f57d-4ab1-9e45-7aab13c2f31c",
   "metadata": {},
   "source": [
    "## Define the nonlinear variational problem"
   ]
  },
  {
   "cell_type": "code",
   "execution_count": 17,
   "id": "329d9f03-2c14-42de-b416-be427e18ffce",
   "metadata": {},
   "outputs": [],
   "source": [
    "# # Optimization options for the form compiler\n",
    "\n",
    "# Set up nonlinear problem\n",
    "problem = NonlinearProblem(Res, w, bcs, a)\n",
    "\n",
    "# the global newton solver and params\n",
    "solver = NewtonSolver(MPI.COMM_WORLD, problem)\n",
    "solver.convergence_criterion = \"incremental\"\n",
    "solver.rtol = 1e-8\n",
    "solver.atol = 1e-8\n",
    "solver.max_it = 50\n",
    "solver.report = True\n",
    "\n",
    "#  The Krylov solver parameters.\n",
    "ksp = solver.krylov_solver\n",
    "opts = PETSc.Options()\n",
    "option_prefix = ksp.getOptionsPrefix()\n",
    "opts[f\"{option_prefix}ksp_type\"] = \"preonly\"\n",
    "opts[f\"{option_prefix}pc_type\"] = \"lu\" # do not use 'gamg' pre-conditioner\n",
    "opts[f\"{option_prefix}pc_factor_mat_solver_type\"] = \"mumps\"\n",
    "opts[f\"{option_prefix}ksp_max_it\"] = 30\n",
    "ksp.setFromOptions()"
   ]
  },
  {
   "cell_type": "markdown",
   "id": "5fd6413f-551a-4fe2-a2b1-e05bcc01c3cd",
   "metadata": {},
   "source": [
    "##  Start calculation loop"
   ]
  },
  {
   "cell_type": "code",
   "execution_count": 18,
   "id": "762e7f58-0273-4882-a95f-b485a54013e7",
   "metadata": {},
   "outputs": [
    {
     "name": "stdout",
     "output_type": "stream",
     "text": [
      "------------------------------------\n",
      "Simulation Start\n",
      "------------------------------------\n",
      "Step: Twist | Increment: 1, Iterations: 5\n",
      "      Simulation Time: 1.0 s  of  20 s\n",
      "\n",
      "Step: Twist | Increment: 2, Iterations: 5\n",
      "      Simulation Time: 2.0 s  of  20 s\n",
      "\n",
      "Step: Twist | Increment: 3, Iterations: 5\n",
      "      Simulation Time: 3.0 s  of  20 s\n",
      "\n",
      "Step: Twist | Increment: 4, Iterations: 5\n",
      "      Simulation Time: 4.0 s  of  20 s\n",
      "\n",
      "Step: Twist | Increment: 5, Iterations: 5\n",
      "      Simulation Time: 5.0 s  of  20 s\n",
      "\n",
      "Step: Twist | Increment: 6, Iterations: 5\n",
      "      Simulation Time: 6.0 s  of  20 s\n",
      "\n",
      "Step: Twist | Increment: 7, Iterations: 5\n",
      "      Simulation Time: 7.0 s  of  20 s\n",
      "\n",
      "Step: Twist | Increment: 8, Iterations: 5\n",
      "      Simulation Time: 8.0 s  of  20 s\n",
      "\n",
      "Step: Twist | Increment: 9, Iterations: 5\n",
      "      Simulation Time: 9.0 s  of  20 s\n",
      "\n",
      "Step: Twist | Increment: 10, Iterations: 5\n",
      "      Simulation Time: 10.0 s  of  20 s\n",
      "\n",
      "Step: Twist | Increment: 11, Iterations: 5\n",
      "      Simulation Time: 11.0 s  of  20 s\n",
      "\n",
      "Step: Twist | Increment: 12, Iterations: 5\n",
      "      Simulation Time: 12.0 s  of  20 s\n",
      "\n",
      "Step: Twist | Increment: 13, Iterations: 5\n",
      "      Simulation Time: 13.0 s  of  20 s\n",
      "\n",
      "Step: Twist | Increment: 14, Iterations: 5\n",
      "      Simulation Time: 14.0 s  of  20 s\n",
      "\n",
      "Step: Twist | Increment: 15, Iterations: 5\n",
      "      Simulation Time: 15.0 s  of  20 s\n",
      "\n",
      "Step: Twist | Increment: 16, Iterations: 5\n",
      "      Simulation Time: 16.0 s  of  20 s\n",
      "\n",
      "Step: Twist | Increment: 17, Iterations: 5\n",
      "      Simulation Time: 17.0 s  of  20 s\n",
      "\n",
      "Step: Twist | Increment: 18, Iterations: 5\n",
      "      Simulation Time: 18.0 s  of  20 s\n",
      "\n",
      "Step: Twist | Increment: 19, Iterations: 5\n",
      "      Simulation Time: 19.0 s  of  20 s\n",
      "\n",
      "Step: Twist | Increment: 20, Iterations: 5\n",
      "      Simulation Time: 20.0 s  of  20 s\n",
      "\n",
      "-----------------------------------------\n",
      "End computation\n",
      "------------------------------------------\n",
      "Elapsed real time:  0:01:05.172960\n",
      "------------------------------------------\n"
     ]
    }
   ],
   "source": [
    "# Variables for storing time history\n",
    "totSteps = numSteps+1\n",
    "timeHist0 = np.zeros(shape=[totSteps])\n",
    "timeHist1 = np.zeros(shape=[totSteps]) \n",
    "timeHist2 = np.zeros(shape=[totSteps]) \n",
    "\n",
    "#Iinitialize a counter for reporting data\n",
    "ii=0\n",
    "\n",
    "# Write initial state to file\n",
    "writeResults(t=0.0)   \n",
    "\n",
    "# Print out message for simulation start\n",
    "print(\"------------------------------------\")\n",
    "print(\"Simulation Start\")\n",
    "print(\"------------------------------------\")\n",
    "# Store start time \n",
    "startTime = datetime.now() \n",
    "\n",
    "# Time-stepping solution procedure loop\n",
    "while (round(t + dt, 9) <= Ttot):\n",
    "     \n",
    "    # increment time\n",
    "    t += dt \n",
    "    # increment counter\n",
    "    ii += 1\n",
    "    \n",
    "    # update time variables in time-dependent BCs \n",
    "    Time_cons.value = t\n",
    "    func_y.interpolate(exp_y)\n",
    "    func_z.interpolate(exp_z)\n",
    "    \n",
    "    # Solve the problem\n",
    "    try:\n",
    "        (iter, converged) = solver.solve(w)\n",
    "    except: # Break the loop if solver fails\n",
    "        print(\"Ended Early\")\n",
    "        break\n",
    "    \n",
    "    # Collect results from MPI ghost processes\n",
    "    w.x.scatter_forward()\n",
    "    \n",
    "    # Write output to file\n",
    "    writeResults(t)\n",
    "    \n",
    "    # Update DOFs for next step\n",
    "    w_old.x.array[:] = w.x.array\n",
    "   \n",
    "    # Store time history variables at this time  \n",
    "    timeHist0[ii] = theta_tot*(t/Ttot) # Current twist angle\n",
    "    timeHist1[ii] = domain.comm.gather(fem.assemble_scalar(Torque))[0] # time history of reaction torque\n",
    "    timeHist2[ii] = domain.comm.gather(fem.assemble_scalar(Force))[0]  # time history of axial force\n",
    "    \n",
    "    # Print progress of calculation\n",
    "    if ii%1 == 0:      \n",
    "        now = datetime.now()\n",
    "        current_time = now.strftime(\"%H:%M:%S\")\n",
    "        print(\"Step: {} | Increment: {}, Iterations: {}\".\\\n",
    "              format(step, ii, iter))\n",
    "        print(\"      Simulation Time: {} s  of  {} s\".\\\n",
    "              format(round(t,4), Ttot))\n",
    "        print()  \n",
    "    \n",
    "\n",
    "# close the output file.\n",
    "file_results.close()\n",
    "         \n",
    "# End analysis\n",
    "print(\"-----------------------------------------\")\n",
    "print(\"End computation\")                 \n",
    "# Report elapsed real time for the analysis\n",
    "endTime = datetime.now()\n",
    "elapseTime = endTime - startTime\n",
    "print(\"------------------------------------------\")\n",
    "print(\"Elapsed real time:  {}\".format(elapseTime))\n",
    "print(\"------------------------------------------\")\n"
   ]
  },
  {
   "cell_type": "markdown",
   "id": "f2dac828-7364-444e-994a-8dc738a7ec80",
   "metadata": {},
   "source": [
    "# Plot results"
   ]
  },
  {
   "cell_type": "code",
   "execution_count": 19,
   "id": "b974c77a-3b53-4c3f-a546-06d272d84be1",
   "metadata": {
    "lines_to_next_cell": 0
   },
   "outputs": [
    {
     "data": {
      "image/png": "[encoded data removed]",
      "text/plain": [
       "<Figure size 640x480 with 1 Axes>"
      ]
     },
     "metadata": {},
     "output_type": "display_data"
    },
    {
     "data": {
      "text/plain": [
       "<Figure size 700x500 with 0 Axes>"
      ]
     },
     "metadata": {},
     "output_type": "display_data"
    },
    {
     "data": {
      "image/png": "[encoded data removed]",
      "text/plain": [
       "<Figure size 640x480 with 1 Axes>"
      ]
     },
     "metadata": {},
     "output_type": "display_data"
    },
    {
     "data": {
      "text/plain": [
       "<Figure size 700x500 with 0 Axes>"
      ]
     },
     "metadata": {},
     "output_type": "display_data"
    }
   ],
   "source": [
    "# set plot font to size 14\n",
    "font = {'size'   : 14}\n",
    "plt.rc('font', **font)\n",
    "\n",
    "# Get array of default plot colors\n",
    "prop_cycle = plt.rcParams['axes.prop_cycle']\n",
    "colors = prop_cycle.by_key()['color']\n",
    "\n",
    "#  Torque versus twist curve:  \n",
    "#\n",
    "fig = plt.figure() \n",
    "#fig.set_size_inches(7,4)\n",
    "ax=fig.gca()  \n",
    "plt.plot(timeHist0/25.4E-3, timeHist1/1.E6 , c='b', linewidth=1.0, marker='.')\n",
    "#-------------------------------------------------------------\n",
    "#ax.set.xlim(-0.01,0.01)\n",
    "#ax.set.ylim(-0.03,0.03)\n",
    "#plt.axis('tight')\n",
    "plt.grid(linestyle=\"--\", linewidth=0.5, color='b')\n",
    "ax.set_xlabel(\"Angle of twist per unit length, rad/m\",size=14)\n",
    "ax.set_ylabel(\"Twisting moment, N-m\",size=14)\n",
    "ax.set_title(\"Twisting moment versus twist per unit length\", size=14, weight='normal')\n",
    "from matplotlib.ticker import AutoMinorLocator,FormatStrFormatter\n",
    "ax.xaxis.set_minor_locator(AutoMinorLocator())\n",
    "ax.yaxis.set_minor_locator(AutoMinorLocator())\n",
    "import matplotlib.ticker as ticker\n",
    "ax.xaxis.set_major_formatter(ticker.FormatStrFormatter('%0.2f'))\n",
    "plt.show()   \n",
    "\n",
    "fig = plt.gcf()\n",
    "fig.set_size_inches(7,5)\n",
    "plt.tight_layout()\n",
    "plt.savefig(\"results/3D_torsion_torque_twist.png\", dpi=600)\n",
    "\n",
    "    \n",
    "#  Normal force versus twist curve:  \n",
    "#\n",
    "fig = plt.figure() \n",
    "#fig.set_size_inches(7,4)\n",
    "ax=fig.gca()  \n",
    "plt.plot(timeHist0/25.4E-3, timeHist2/1.E3, c='b', linewidth=1.0, marker='.')\n",
    "#-------------------------------------------------------------\n",
    "#ax.set.xlim(-0.01,0.01)\n",
    "#ax.set.ylim(-0.03,0.03)\n",
    "#plt.axis('tight')\n",
    "plt.grid(linestyle=\"--\", linewidth=0.5, color='b')\n",
    "ax.set_xlabel(\"Angle of twist per unit length, rad/m\",size=14)\n",
    "ax.set_ylabel(\"Axial force, N\",size=14)\n",
    "ax.set_title(\"Axial force versus twist per unit length\", size=14, weight='normal')\n",
    "from matplotlib.ticker import AutoMinorLocator,FormatStrFormatter\n",
    "ax.xaxis.set_minor_locator(AutoMinorLocator())\n",
    "ax.yaxis.set_minor_locator(AutoMinorLocator())\n",
    "import matplotlib.ticker as ticker\n",
    "ax.xaxis.set_major_formatter(ticker.FormatStrFormatter('%0.2f'))\n",
    "plt.show()   \n",
    "\n",
    "fig = plt.gcf()\n",
    "fig.set_size_inches(7,5)\n",
    "plt.tight_layout()\n",
    "plt.savefig(\"results/3D_torsion_axial_force_twist.png\", dpi=600)"
   ]
  }
 ],
 "metadata": {
  "jupytext": {
   "formats": "ipynb,py:light"
  },
  "kernelspec": {
   "display_name": "fenicsx-env",
   "language": "python",
   "name": "python3"
  },
  "language_info": {
   "codemirror_mode": {
    "name": "ipython",
    "version": 3
   },
   "file_extension": ".py",
   "mimetype": "text/x-python",
   "name": "python",
   "nbconvert_exporter": "python",
   "pygments_lexer": "ipython3",
   "version": "3.10.12"
  }
 },
 "nbformat": 4,
 "nbformat_minor": 5
}
